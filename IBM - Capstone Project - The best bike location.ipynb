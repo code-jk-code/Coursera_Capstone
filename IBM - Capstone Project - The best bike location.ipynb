{
    "cells": [
        {
            "cell_type": "markdown",
            "metadata": {
                "collapsed": true
            },
            "source": "# Capstone Project - The Battle of the Neighborhoods (Week 2)\n### Applied Data Science Capstone by IBM/Coursera"
        },
        {
            "cell_type": "markdown",
            "metadata": {},
            "source": "## Table of contents\n* [Introduction: Business Problem](#introduction)\n* [Data](#data)\n* [Methodology](#methodology)\n* [Analysis](#analysis)\n* [Results and Discussion](#results)\n* [Conclusion](#conclusion)"
        },
        {
            "cell_type": "markdown",
            "metadata": {},
            "source": "## Introduction: Business Problem <a name=\"introduction\"></a>"
        },
        {
            "cell_type": "markdown",
            "metadata": {},
            "source": "In this project, we will attempt to identify the optimal location for  new **bike sharing stations** in **Dublin, Ireland**. \n\nWe will look at the profile of venues in neighbourhoods with existing bike sharing stations and use this to find other similar neighbourhoods. We will also examine the popularity of exisiting bike sharing stations to identify key factors.\n\nWe will use the analaysis to generate recommended locations for new **bike sharing stations** which will be of use and interest to the local governement and also private sector bike share operators."
        },
        {
            "cell_type": "markdown",
            "metadata": {},
            "source": "## Data <a name=\"data\"></a>"
        },
        {
            "cell_type": "markdown",
            "metadata": {},
            "source": "The following are the key data we will need for the analysis:\n\n* [Bike sharing station location and use data]\n* [Neighbourhood venue data]\n\n\nThis data will be retrieved from the following sources:\n- **Dublinbike Data** provided by Dublin City Council on Ireland's open data poral\n- Neighbourhood venue data from **Foursquare API**. "
        },
        {
            "cell_type": "markdown",
            "metadata": {},
            "source": ""
        }
    ],
    "metadata": {
        "kernelspec": {
            "display_name": "Python 3.7",
            "language": "python",
            "name": "python3"
        },
        "language_info": {
            "codemirror_mode": {
                "name": "ipython",
                "version": 3
            },
            "file_extension": ".py",
            "mimetype": "text/x-python",
            "name": "python",
            "nbconvert_exporter": "python",
            "pygments_lexer": "ipython3",
            "version": "3.7.10"
        }
    },
    "nbformat": 4,
    "nbformat_minor": 1
}